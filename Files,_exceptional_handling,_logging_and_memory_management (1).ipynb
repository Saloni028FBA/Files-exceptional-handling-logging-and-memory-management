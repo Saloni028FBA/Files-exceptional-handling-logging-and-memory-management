{
  "nbformat": 4,
  "nbformat_minor": 0,
  "metadata": {
    "colab": {
      "provenance": []
    },
    "kernelspec": {
      "name": "python3",
      "display_name": "Python 3"
    },
    "language_info": {
      "name": "python"
    }
  },
  "cells": [
    {
      "cell_type": "markdown",
      "source": [
        "#### Files, exceptional handling, logging and memory management\n",
        "\n",
        "## Theory Part"
      ],
      "metadata": {
        "id": "SiGTQiXPLaBq"
      }
    },
    {
      "cell_type": "markdown",
      "source": [
        "1. What is the difference between interpreted and compiled languages?\n",
        "   \n",
        "  A. Compiled language:\n",
        "       \n",
        "    1. The code is translated all at once into machine code (binary) by a compiler before it runs.\n",
        "\n",
        "    2. Produces a standalone executable file.\n",
        "\n",
        "    3. Generally faster at runtime because the code is already optimized for the target machine.\n",
        "\n",
        "    4. How it works: You write source code → use a compiler → it creates an executable file → you run the file.\n",
        "\n",
        "    5. Harder to debug (errors are shown after compiling).\n",
        "\n",
        "    6. Example -> C, C++, Rust, Go.\n",
        "\n",
        "  B. Interpreted Languages:\n",
        "      \n",
        "    1. The code is read and executed line by line by an interpreter at runtime.\n",
        "\n",
        "    2. No pre-compilation into machine code.\n",
        "\n",
        "    3. Slower execution compared to compiled languages because each line is translated on the fly.\n",
        "\n",
        "    4. How it works: You write code → run it through an interpreter → it executes instantly.\n",
        "\n",
        "    5. Easier to test and debug (errors show up as you run the code).\n",
        "\n",
        "    6. Example -> Python, Ruby, PHP.\n",
        "\n"
      ],
      "metadata": {
        "id": "uoqzG8P9rRJS"
      }
    },
    {
      "cell_type": "markdown",
      "source": [
        "2. What is exception handling in Python?\n",
        "\n",
        "  - Exception handling in Python is a mechanism to manage runtime errors (exceptions) gracefully, ensuring the program doesn’t crash when something unexpected happens.\n",
        "\n",
        "  - An exception is an error that occurs at runtime, like ->\n",
        "\n",
        "      1. Trying to divide by zero (ZeroDivisionError)\n",
        "      2. Accessing a file that doesn’t exist (FileNotFoundError)\n",
        "      3. Using a variable that hasn’t been defined (NameError).\n",
        "\n",
        "  - Methods to handle exceptions in Python ->\n",
        "\n",
        "      1. Try-Except Block ->\n",
        "         \n",
        "         - The primary structure for handling exceptions.\n",
        "         - Code in the try block runs normally; if an error occurs, Python jumps to except.\n",
        "\n",
        "      2. Else & Finally ->\n",
        "\n",
        "          - else: Executes if no exception occurs.\n",
        "          - finally: Always runs, regardless of exceptions (used for cleanup, like closing files)."
      ],
      "metadata": {
        "id": "Q9CbCfPhtb6O"
      }
    },
    {
      "cell_type": "code",
      "source": [
        "# Example of try-except method of handling exception in python: (Ques - 2)\n",
        "\n",
        "try:\n",
        "    # Code that might cause an exception\n",
        "    x = 10 / 0\n",
        "except ZeroDivisionError:\n",
        "    # Code to run if an exception occurs\n",
        "    print(\"You can't divide by zero!\")\n"
      ],
      "metadata": {
        "colab": {
          "base_uri": "https://localhost:8080/"
        },
        "id": "BgM8ADsutblH",
        "outputId": "f9c98166-9ccd-4eb7-947e-550810eb1e06"
      },
      "execution_count": null,
      "outputs": [
        {
          "output_type": "stream",
          "name": "stdout",
          "text": [
            "You can't divide by zero!\n"
          ]
        }
      ]
    },
    {
      "cell_type": "code",
      "source": [
        "# Example of else-finally method of handling exception in python: (Ques - 2)\n",
        "\n",
        "try:\n",
        "    x = 10 / 2\n",
        "except ZeroDivisionError:\n",
        "    print(\"Division by zero error.\")\n",
        "else:\n",
        "    print(\"Division successful:\", x)  # Runs if no exception occurs\n",
        "finally:\n",
        "    print(\"This always runs.\")  # Runs no matter what\n"
      ],
      "metadata": {
        "colab": {
          "base_uri": "https://localhost:8080/"
        },
        "id": "r0X1cK1UzCsc",
        "outputId": "c52bb96e-6aed-4c62-eb13-3e9dd8b7e85a"
      },
      "execution_count": null,
      "outputs": [
        {
          "output_type": "stream",
          "name": "stdout",
          "text": [
            "Division successful: 5.0\n",
            "This always runs.\n"
          ]
        }
      ]
    },
    {
      "cell_type": "markdown",
      "source": [
        "3. What is the purpose of the finally block in exception handling?\n",
        "\n",
        "   - The finally block in Python (and other languages) is used to define cleanup code that must run no matter what—whether an exception occurs or not.\n",
        "\n",
        "   - Purpose of finally -> To execute cleanup actions like: closing files, releasing resources and Ending database connections.\n",
        "\n",
        "   - Finally block ensures that important final steps don’t get skipped, even if there's an error.\n",
        "\n",
        "   - Finally help avoids resource leaks that could occur if an exception interrupts normal flow.\n",
        "\n",
        "   - Finally runs after try/except/else blocks but before the function returns or exits, this the oder of execution of finally.\n",
        "\n"
      ],
      "metadata": {
        "id": "wZBVz88VzwUL"
      }
    },
    {
      "cell_type": "code",
      "source": [
        "# Example the Finally block  in exception handling: (Ques - 3)\n",
        "\n",
        "try:\n",
        "    file = open(\"data.txt\", \"r\")\n",
        "    # simulate an error\n",
        "    content = file.read()\n",
        "except FileNotFoundError:\n",
        "    print(\"File not found.\")\n",
        "finally:\n",
        "    print(\"Closing the file.\")\n",
        "    try:\n",
        "        file.close()\n",
        "    except NameError:\n",
        "        pass\n"
      ],
      "metadata": {
        "colab": {
          "base_uri": "https://localhost:8080/"
        },
        "id": "Q0LBmsa_2FwS",
        "outputId": "b2e47a22-707d-4663-c638-fd7d7908d8ae"
      },
      "execution_count": null,
      "outputs": [
        {
          "output_type": "stream",
          "name": "stdout",
          "text": [
            "File not found.\n",
            "Closing the file.\n"
          ]
        }
      ]
    },
    {
      "cell_type": "markdown",
      "source": [
        "4. What is logging in Python?\n",
        "\n",
        "   - Logging is the process of recording events, messages, and errors during a program's execution,like a digital journal for your program.\n",
        "\n",
        "   - Python’s built-in logging module is the standard way to implement logging, offering flexibility and control over log messages (e.g., severity levels, file output, formatting).\n",
        "\n",
        "   - Instead of using print() statements, which are simple but not very flexible, the logging module helps you:\n",
        "      \n",
        "      1. Record different levels of messages.\n",
        "      2. Save logs to a file.\n",
        "      3. Control what gets shown and where.\n",
        "      4. Make debugging and monitoring easier, especially for larger apps.\n",
        "\n",
        "   - Why Use Logging?\n",
        "\n",
        "      1. To debug more efficiently.\n",
        "      2. To track application behavior over time.\n",
        "      3. To get insights when errors happen in production.\n",
        "      \n",
        "  - Logs are categorized by severity levels (from lowest to highest):\n",
        "\n",
        "      1. DEBUG\t 10\t  Detailed info for debugging (e.g., variable values).\n",
        "      \n",
        "      2. INFO\t 20\t  Confirmation of normal operation (e.g., \"User logged in\").\n",
        "     \n",
        "      3. WARNING\t30\tIndicates potential issues (e.g., \"Low disk space\").\n",
        "     \n",
        "      4. ERROR\t  40\t Serious problems (e.g., \"Failed to connect to DB\").\n",
        "   \n",
        "      5. CRITICAL\t 50\t Fatal errors (e.g., \"System crash imminent\")."
      ],
      "metadata": {
        "id": "OqdxE3JaV36e"
      }
    },
    {
      "cell_type": "code",
      "source": [
        "# Example logging in Python: (Ques - 4)\n",
        "\n",
        "import logging\n",
        "\n",
        "logging.basicConfig(level=logging.INFO)\n",
        "logging.info(\"This is an info message\")\n",
        "logging.warning(\"This is a warning\")\n",
        "logging.error(\"This is an error\")\n"
      ],
      "metadata": {
        "colab": {
          "base_uri": "https://localhost:8080/"
        },
        "id": "lMtkRghIbQOO",
        "outputId": "cb572e48-e82a-4ddc-fcb6-5a04061a4938"
      },
      "execution_count": null,
      "outputs": [
        {
          "output_type": "stream",
          "name": "stderr",
          "text": [
            "WARNING:root:This is a warning\n",
            "ERROR:root:This is an error\n"
          ]
        }
      ]
    },
    {
      "cell_type": "markdown",
      "source": [
        "5. What is the significance of the __del__ method in Python?\n",
        "\n",
        "   - The __del__ method in Python is called a destructor, and its main purpose is to clean up resources when an object is deleted.\n",
        "   \n",
        "   - Significance of __del__:\n",
        "\n",
        "      1. Resource Cleanup: Helps free up resources like closing database connections, releasing file handles, or disconnecting network sockets.\n",
        "      \n",
        "      2. Not Guaranteed Execution: Unlike finally or context managers (with), __del__ is not always called (e.g., during interpreter shutdown or if the object is still referenced).\n",
        "\n",
        "      3. Final Actions: Allows performing last-minute operations before an object is destroyed."
      ],
      "metadata": {
        "id": "q7Z_et_lcaE6"
      }
    },
    {
      "cell_type": "markdown",
      "source": [
        "6. What is the difference between import and from ... import in Python?\n",
        "\n",
        "   - In Python, both import and from ... import are used to bring in modules, but they have distinct differences in usage and behavior.\n",
        "\n",
        "     1. Import Statement:\n",
        "\n",
        "         - Imports the whole module.\n",
        "         \n",
        "         - You must use the module's name as a prefix when accessing its functions or attributes.\n",
        "\n",
        "         - Import module keep the namespace (e.g., math.sqrt).\n",
        "\n",
        "         - More explicit where things come from.\n",
        "\n",
        "         - The risk of conflict is low.\n",
        "\n",
        "    2. From...import statement:\n",
        "         \n",
        "         - Imports specific attributes (functions, classes, variables) directly from a module.\n",
        "\n",
        "         - You can directly use the imported items without needing the module name as a prefix.\n",
        "\n",
        "         - From module import name keep the namespace (e.g., sqrt).\n",
        "\n",
        "         - It is shorter, but can be unclear in large scripts.\n",
        "\n",
        "         - The risk of conflict is higher (if different modules have same function names).\n"
      ],
      "metadata": {
        "id": "jhXFa5WfC3FJ"
      }
    },
    {
      "cell_type": "code",
      "source": [
        "# Example of import in pyhthon: (Ques - 6)\n",
        "\n",
        "import math\n",
        "print(math.sqrt(16))  # Using the module name as a prefix"
      ],
      "metadata": {
        "id": "bJBdCZaVV27q",
        "colab": {
          "base_uri": "https://localhost:8080/"
        },
        "outputId": "873b20a3-016b-487c-9986-e9339349b42d"
      },
      "execution_count": 1,
      "outputs": [
        {
          "output_type": "stream",
          "name": "stdout",
          "text": [
            "4.0\n"
          ]
        }
      ]
    },
    {
      "cell_type": "code",
      "source": [
        "# Example of from...import in pyhthon: (Ques - 6)\n",
        "\n",
        "from math import sqrt\n",
        "print(sqrt(16))  # No need for 'math.' prefix"
      ],
      "metadata": {
        "colab": {
          "base_uri": "https://localhost:8080/"
        },
        "id": "o68WikCjEZrp",
        "outputId": "93f0b8c0-3275-4cae-dba7-1500e15f3de0"
      },
      "execution_count": 3,
      "outputs": [
        {
          "output_type": "stream",
          "name": "stdout",
          "text": [
            "4.0\n"
          ]
        }
      ]
    },
    {
      "cell_type": "markdown",
      "source": [
        "7. How can you handle multiple exceptions in Python?\n",
        "\n",
        "    - In Python, handling multiple exceptions can be done in several clean and effective ways depending on the scenario.\n",
        "    \n",
        "    - Here's how:\n",
        "\n",
        "       1. Multiple except Blocks:\n",
        "            \n",
        "            - This is used when different exceptions need different handling.\n",
        "            - Each block is checked in order, and only the first matching one runs.\n",
        "\n",
        "      2. Using a Single except Block with a Tuple:\n",
        "            \n",
        "            - This is used when multiple exceptions should be handled the same way.\n",
        "            - This catches either a ValueError or a TypeError and handles both with the same block.\n",
        "\n",
        "      3. Catching All Exceptions (Use with Care):\n",
        "\n",
        "           - It is useful when you're unsure what exceptions might occur.\n",
        "           - Avoid using this unless necessary, as it hides specific errors.\n",
        "\n",
        "      4. else and finally:\n",
        "\n",
        "          - else runs only if no exception occurs.\n",
        "          - finally always runs, even if there's an exception or return statement.    \n",
        "\n"
      ],
      "metadata": {
        "id": "N34frGl0HZng"
      }
    },
    {
      "cell_type": "code",
      "source": [
        "# Example of multiple except blocks: (Ques - 7)\n",
        "\n",
        "try:\n",
        "    result = 10 / 0\n",
        "except ZeroDivisionError:\n",
        "    print(\"Can't divide by zero.\")\n",
        "except ValueError:\n",
        "    print(\"Invalid value.\")"
      ],
      "metadata": {
        "colab": {
          "base_uri": "https://localhost:8080/"
        },
        "id": "feLCj6z4IkY7",
        "outputId": "00f09301-888d-4a02-f9ca-a2d56bea2be6"
      },
      "execution_count": 9,
      "outputs": [
        {
          "output_type": "stream",
          "name": "stdout",
          "text": [
            "Can't divide by zero.\n"
          ]
        }
      ]
    },
    {
      "cell_type": "code",
      "source": [
        "# Example of Single except Block: (Ques - 7)\n",
        "\n",
        "try:\n",
        "    x = int(\"abc\")\n",
        "except (ValueError, TypeError):\n",
        "    print(\"Error occurred.\")"
      ],
      "metadata": {
        "colab": {
          "base_uri": "https://localhost:8080/"
        },
        "id": "jchzwrzUIy4u",
        "outputId": "2fe5e15e-0b8f-420c-ab59-f1626b070a8c"
      },
      "execution_count": 11,
      "outputs": [
        {
          "output_type": "stream",
          "name": "stdout",
          "text": [
            "Error occurred.\n"
          ]
        }
      ]
    },
    {
      "cell_type": "code",
      "source": [
        "# Example of Catching all exceptions: (Ques - 7)\n",
        "\n",
        "def divide_numbers(a, b):\n",
        "    try:\n",
        "        result = a / b\n",
        "        print(f\"Result: {result}\")\n",
        "    except Exception as e:\n",
        "        print(f\"An error occurred: {e}\")\n",
        "    finally:\n",
        "        print(\"Execution completed.\")\n",
        "\n",
        "\n",
        "divide_numbers(10, 2)   # Works fine\n",
        "divide_numbers(10, 0)   # Triggers ZeroDivisionError\n",
        "divide_numbers(\"10\", 2) # Triggers TypeError\n"
      ],
      "metadata": {
        "colab": {
          "base_uri": "https://localhost:8080/"
        },
        "id": "TGd3Xh4eMsCJ",
        "outputId": "aee02f29-a6f3-4912-f5b0-692f956472c1"
      },
      "execution_count": 17,
      "outputs": [
        {
          "output_type": "stream",
          "name": "stdout",
          "text": [
            "Result: 5.0\n",
            "Execution completed.\n",
            "An error occurred: division by zero\n",
            "Execution completed.\n",
            "An error occurred: unsupported operand type(s) for /: 'str' and 'int'\n",
            "Execution completed.\n"
          ]
        }
      ]
    },
    {
      "cell_type": "code",
      "source": [
        "# Example of else and finally: (Ques - 7)\n",
        "\n",
        "try:\n",
        "    x = int(\"42\")\n",
        "except ValueError:\n",
        "    print(\"Invalid integer.\")\n",
        "else:\n",
        "    print(\"Conversion successful!\")\n",
        "finally:\n",
        "    print(\"This block always runs.\")"
      ],
      "metadata": {
        "colab": {
          "base_uri": "https://localhost:8080/"
        },
        "id": "Qlt7tiENNVQy",
        "outputId": "ff730ab8-1f83-4d24-81c9-d18c4d7014d0"
      },
      "execution_count": 18,
      "outputs": [
        {
          "output_type": "stream",
          "name": "stdout",
          "text": [
            "Conversion successful!\n",
            "This block always runs.\n"
          ]
        }
      ]
    },
    {
      "cell_type": "markdown",
      "source": [
        "8. What is the purpose of the with statement when handling files in Python?\n",
        "\n",
        "    - The with statement in Python is used for handling files efficiently by ensuring proper resource management. It simplifies file operations by automatically closing the file when the block of code finishes execution, even if an exception occurs.\n",
        "\n",
        "    - Purpose of with in File Handling:\n",
        "\n",
        "       1. Automatic Cleanup: It ensures the file is automatically closed after exiting the with block, preventing memory leaks.\n",
        "       \n",
        "       2. Error Handling: If an exception occurs inside the block, Python still ensures that the file gets close.\n",
        "\n",
        "       3. More Readable & Concise Code: Eliminates the need for explicit file.close() calls, making code cleaner.\n",
        "\n"
      ],
      "metadata": {
        "id": "kClddhcCOT01"
      }
    },
    {
      "cell_type": "markdown",
      "source": [
        "9. What is the difference between multithreading and multiprocessing?\n",
        "\n",
        "   - Multithreading and multiprocessing are both ways to achieve concurrent execution, but but they differ in how they utilize system resources under the hood.\n",
        "   \n",
        "     1. Multithreading:\n",
        "\n",
        "         - Running multiple threads (lightweight processes) within the same process.\n",
        "\n",
        "         - All threads share the same memory space, which makes data sharing easy—but you need to handle thread safety.\n",
        "\n",
        "         - Works well for I/O-bound tasks (e.g., reading/writing files, network requests).\n",
        "\n",
        "         -  In Python, the Global Interpreter Lock (GIL) allows only one thread to execute Python bytecode at a time so limited parallelism\n",
        "\n",
        "     2. Multiprocessing:\n",
        "\n",
        "          - Running multiple processes, each with its own Python interpreter and memory space.\n",
        "\n",
        "          - Higher memory usage because each process has its own memory.\n",
        "\n",
        "          - More suitable for CPU-bound tasks (e.g., computations, data processing,heavy computation like matrix multiplication).\n",
        "\n",
        "          - Avoids Global Interpreter Lock (GIL), making true parallelism possible."
      ],
      "metadata": {
        "id": "Jt50S1PUQNa4"
      }
    },
    {
      "cell_type": "code",
      "source": [
        "# Example of Multithreading: (Ques - 9)\n",
        "\n",
        "import threading\n",
        "\n",
        "def print_numbers():\n",
        "    for i in range(5):\n",
        "        print(i)\n",
        "\n",
        "thread1 = threading.Thread(target=print_numbers)\n",
        "thread2 = threading.Thread(target=print_numbers)\n",
        "\n",
        "thread1.start()\n",
        "thread2.start()"
      ],
      "metadata": {
        "colab": {
          "base_uri": "https://localhost:8080/"
        },
        "id": "1pizLJvOSM8S",
        "outputId": "da65756a-8939-4118-e860-176e1d0cc50f"
      },
      "execution_count": 21,
      "outputs": [
        {
          "output_type": "stream",
          "name": "stdout",
          "text": [
            "0\n",
            "1\n",
            "2\n",
            "3\n",
            "4\n",
            "0\n",
            "1\n",
            "2\n",
            "3\n",
            "4\n"
          ]
        }
      ]
    },
    {
      "cell_type": "code",
      "source": [
        "# Example of Multiprocessing: (Ques - 9)\n",
        "\n",
        "import multiprocessing\n",
        "\n",
        "def print_numbers():\n",
        "    for i in range(5):\n",
        "        print(i)\n",
        "\n",
        "process1 = multiprocessing.Process(target=print_numbers)\n",
        "process2 = multiprocessing.Process(target=print_numbers)\n",
        "\n",
        "process1.start()\n",
        "process2.start()"
      ],
      "metadata": {
        "colab": {
          "base_uri": "https://localhost:8080/"
        },
        "id": "yjzy546MSp3S",
        "outputId": "78076c6a-7507-452d-f8f3-02f2cd7608c0"
      },
      "execution_count": 20,
      "outputs": [
        {
          "output_type": "stream",
          "name": "stdout",
          "text": [
            "0"
          ]
        }
      ]
    },
    {
      "cell_type": "markdown",
      "source": [
        "10. What are the advantages of using logging in a program?\n",
        "\n",
        "    - Using logging in a program provides several advantages, especially for debugging, monitoring, and maintaining software effectively.\n",
        "\n",
        "    - Here’s why logging is a best practice in software development:\n",
        "\n",
        "        1. Easier Debugging -> Logging helps you trace the flow of execution and pinpoint where things might be going wrong, especially in production where you can’t use print statements or a debugger.\n",
        "\n",
        "        2. Keeps a Record of Events -> Logs maintain a history of what happened and when. This is super helpful for understanding the sequence of events, diagnosing issues after they happen, or even for audits.\n",
        "\n",
        "        3. Better than print() -> Logs can include timestamps, severity levels (INFO, WARNING, ERROR, etc.), and more. You can control what gets output via log levels. Logs can be easily redirected to files, external systems, or the console.\n",
        "\n",
        "        4. Helps with Monitoring -> In deployed applications, logging helps you monitor how your system is performing over time—detecting anomalies, errors, or performance issues.\n",
        "\n",
        "        5. Supports Different Logging Levels ->\n",
        "               \n",
        "            Python’s logging module provides different severity levels to classify logs:\n",
        "\n",
        "              1. DEBUG – Detailed information for troubleshooting.\n",
        "              2. INFO – General runtime events.\n",
        "              3. WARNING – Something might be wrong but isn’t critical.\n",
        "              4. ERROR – A significant issue occurred.\n",
        "              5. CRITICAL – Serious error affecting the system.\n",
        "\n",
        "        6. Works in Multithreaded/Multiprocessed Environments -> Logging handles concurrency better than print statements, reducing jumbled or missing output."
      ],
      "metadata": {
        "id": "VXN4dD5eBs3s"
      }
    },
    {
      "cell_type": "markdown",
      "source": [
        "11. What is memory management in Python?\n",
        "\n",
        "     - Memory management in Python is the process of allocating, using, and freeing up memory during the execution of a Python program.\n",
        "     \n",
        "     - Python does a lot of the heavy lifting for you when it comes to memory—making it both beginner-friendly and powerful.\n",
        "\n",
        "     - How It Works:\n",
        "         \n",
        "         1. Automatic Memory Allocation -> When you create a variable, object, or data structure (like a list or dictionary), Python automatically allocates the memory needed. This is handled by the Python Memory Manager.\n",
        "\n",
        "         2.  Garbage Collection -> Python has a built-in garbage collector that automatically frees up memory by deleting objects that are no longer in use.It uses a technique called reference counting, and also handles cyclic references using the gc module.\n",
        "\n",
        "         3. Reference Counting -> Each object has a reference count, which tracks how many variables reference it.When the count drops to zero, the object is deleted.\n",
        "\n",
        "         4. Memory Pools (via pymalloc) -> Python uses a system called pymalloc to manage small memory blocks efficiently.It reduces overhead and increases performance by reusing memory."
      ],
      "metadata": {
        "id": "w1E-gbewJG2O"
      }
    },
    {
      "cell_type": "markdown",
      "source": [
        "12. What are the basic steps involved in exception handling in Python?\n",
        "\n",
        "     - Exception handling in Python ensures that a program can gracefully handle errors rather than crashing unexpectedly.\n",
        "     \n",
        "     - The process typically follows these basic steps:\n",
        "\n",
        "        1. Try block:\n",
        "        \n",
        "            - This is where you place the code that you suspect might raise an exception during execution.\n",
        "\n",
        "            -  Python attempts to execute the code within the try block line by line.\n",
        "\n",
        "        2. Except block:\n",
        "\n",
        "             - If an exception does occur within the try block, Python immediately stops executing the rest of the try block and looks for a matching except block. This block contains the code to handle the specific error.\n",
        "\n",
        "             - You can have multiple except blocks to handle different types of exceptions.Python will execute the first except block that matches the type of exception raised.\n",
        "\n",
        "        3. Else block:\n",
        "             \n",
        "             - This block contains code that should run only if the try block completes successfully (i.e., no exceptions were raised).\n",
        "\n",
        "             -  If the try block finishes without any errors, the else block is executed after the try block and before the finally block (if present).\n",
        "\n",
        "        4. finally block:\n",
        "\n",
        "              - This block contains cleanup code that must be executed regardless of what happened in the try and except blocks. It's typically used for releasing external resources (like closing files or network connections).\n",
        "\n",
        "              - The finally block is always executed after the try, except, and else blocks, no matter if an exception occurred, if it was handled, or even if a return, break, or continue statement was executed within the try or except blocks.\n",
        "\n",
        "   - Basic Workflow Summary:\n",
        "         \n",
        "       1. Execute code in the try block.\n",
        "      \n",
        "       2. If no exception occurs => Execute the else block (if present).\n",
        "      \n",
        "       3. If an exception occurs => Skip the rest of the try block, find the first matching except block, and execute it. If no matching except block is found, the exception propagates up, potentially crashing the program if not handled elsewhere.\n",
        "       \n",
        "       4. Execute the finally block (if present), regardless of what happened above."
      ],
      "metadata": {
        "id": "476Ro9JaNEA9"
      }
    },
    {
      "cell_type": "markdown",
      "source": [
        "13. Why is memory management important in Python?\n",
        "\n",
        "     - Memory management in Python is crucial because it ensures that applications run efficiently without unnecessary memory consumption or leaks because it directly affects the program’s:\n",
        "\n",
        "         1. Performance\n",
        "              \n",
        "              - Avoids memory bloat, where too much memory is used unnecessarily. Proper memory management prevents excessive memory usage, making programs run faster.\n",
        "              \n",
        "              - Python optimize performance by automatically allocates and deallocates memory using Garbage Collection (GC).\n",
        "\n",
        "         2. Enhances Security & Stability\n",
        "\n",
        "              - Poor memory management can lead to issues like buffer overflows, affecting security, crashes, slowdowns, or out-of-memory errors.\n",
        "\n",
        "              - Python's built-in memory manager helps minimize these risks by tracking and cleaning up unused objects, ensuring program stability.\n",
        "\n",
        "         3. Prevents Memory Leaks\n",
        "              \n",
        "              - Memory leaks happen when objects that are no longer needed are not freed.Python uses reference counting and cyclic garbage collection to reclaim memory efficiently.\n",
        "\n",
        "              - Developers can use gc.collect() to manually trigger garbage collection in certain cases.\n",
        "\n",
        "         4. Simplifies Development\n",
        "\n",
        "              - Since Python handles most memory operations behind the scenes, you can focus on writing logic rather than micromanaging memory.\n",
        "\n",
        "         5. Supports Large-Scale Applications\n",
        "\n",
        "              - Without efficient memory handling, large programs (e.g., web applications, AI models) would consume huge amounts of RAM, leading to crashes.\n",
        "\n",
        "              - Best practices like using __slots__ in classes or generators help optimize memory usage."
      ],
      "metadata": {
        "id": "LGePIZXIYQbH"
      }
    },
    {
      "cell_type": "markdown",
      "source": [
        "14. What is the role of try and except in exception handling?\n",
        "\n",
        "     - In Python, the try and except blocks together plays a crucial role in exception handling, allowing programs to gracefully handle errors instead of crashing unexpectedly.\n",
        "      \n",
        "       A. Role of try block: (\"Try to do this...\")\n",
        "\n",
        "         - Contains the code that might cause an error.If the code runs successfully, execution continues normally.\n",
        "         \n",
        "         - If an error occurs, the program immediately jumps to the except block.\n",
        "        \n",
        "         -  It tells Python: \"Attempt to execute the following lines of code, but be prepared for potential errors.\"\n",
        "\n",
        "      B. Role of expect block: (\"...and if it fails, do this.\")\n",
        "\n",
        "         - Handles the exception that was triggered inside try. Prevents the program from crashing by providing a way to respond to errors.\n",
        "         \n",
        "         - Can handle specific exception (you want to catch) types or multiple exceptions.\n",
        "\n",
        "         -  It tells Python: \"If an error of type X occurs in the preceding try block, don't crash. Instead, execute the code within this except block\".\n",
        "   \n",
        "   - Benefits of Using try-except:\n",
        "\n",
        "      1. Prevents crashes on an error and ensures smooth execution by catching the error and respond gracefully.\n",
        "      \n",
        "      2. Provides meaningful user friendly error messages or fallback behavior instead of confusing system errors.\n",
        "      \n",
        "      3. Allows custom handling for different error types.\n",
        "      \n",
        "      4. Helps with Debugging by catching exceptions, one can log or print details about what went wrong."
      ],
      "metadata": {
        "id": "ViHQLlXKcD_E"
      }
    },
    {
      "cell_type": "markdown",
      "source": [
        "15. How does Python's garbage collection system work?\n",
        "\n",
        "    - Garbage collection is the process of automatically freeing up memory by removing objects that are no longer needed by the program, preventing memory leaks and optimizing performance.\n",
        "\n",
        "    - Here's how Garbage Collection Works in Python: Python primarily relies on two mechanisms for garbage collection =>\n",
        "    \n",
        "        1.  Reference Counting  \n",
        "        2. Cyclic Garbage Collector\n",
        "\n",
        "     1. Reference Counting:\n",
        "\n",
        "         - Every object in Python has a reference count, this count keeps track of how many references (variables, pointers from other objects like lists or dictionaries) currently point to that object.\n",
        "\n",
        "         - When a new reference to an object is created (e.g., assigning it to a new variable, adding it to a list), its reference count increases by one.\n",
        "\n",
        "         - When a new reference to an object is created (e.g., assigning it to a new variable, adding it to a list), its reference count increases by one.\n",
        "        \n",
        "         - As soon as an object's reference count drops to zero, it means nothing in the program is no longer accessible and  immediately reclaims the memory occupied by that object, making it available for future use.\n",
        "\n",
        "    2. Cyclic Garbage Collector:\n",
        "         \n",
        "         - A reference cycle occurs when objects refer to each other (e.g., object A points to B, and object B points back to A), potentially keeping their reference counts above zero even if they are no longer reachable from anywhere else in the program.\n",
        "\n",
        "         - collector runs on a specific generation, it uses algorithms to identify objects within that generation that are part of isolated reference cycles (i.e., they reference each other but are not reachable from outside the cycle).\n",
        "\n",
        "         - Once such cycles are detected, the garbage collector breaks the internal references within the cycle, allowing the objects' reference counts to drop to zero (conceptually) so their memory can be reclaimed. Handling objects with custom __del__ methods involved in cycles requires special care.\n",
        "\n",
        "\n"
      ],
      "metadata": {
        "id": "KwYC01WQ0-Qw"
      }
    },
    {
      "cell_type": "markdown",
      "source": [
        "16. What is the purpose of the else block in exception handling?\n",
        "     \n",
        "     - In Python's exception handling, the else block is used to execute code that runs only if no exceptions occur in the try block. It helps separate normal execution from error handling.\n",
        "\n",
        "     - Why Use else:\n",
        "         \n",
        "         1. Else helps keep the try block focused on just the code that might raise an exception.\n",
        "         \n",
        "         2. Improves readability by avoiding unnecessary logic inside try, making it easier to understand.\n",
        "\n",
        "         3. Enhances program flow ensures that certain actions only happen when no errors occur."
      ],
      "metadata": {
        "id": "HkzYI0_pLUxr"
      }
    },
    {
      "cell_type": "markdown",
      "source": [
        "17. What are the common logging levels in Python?\n",
        "\n",
        "     - Python provides several logging levels to categorize messages based on their severity. These levels help developers track different types of events in an application.\n",
        "\n",
        "     - Here are the common logging levels:\n",
        "\n",
        "         1. DEBUG (Lowest Level):\n",
        "               \n",
        "            - Detailed information, mainly for diagnosing problems during development.\n",
        "            - Helps developers troubleshoot issues step-by-step.\n",
        "            - Numeric value => 10\n",
        "\n",
        "         2. INFO\n",
        "            \n",
        "            - Used to log general events or confirmations that everything is working.\n",
        "            - Numeric value => 20\n",
        "\n",
        "         3. WARNING\n",
        "             \n",
        "             - Indicates a potential issue that may need attention but doesn’t stop execution.\n",
        "             - Numeric value => 30\n",
        "\n",
        "         4. ERROR\n",
        "             \n",
        "             - A more serious issue — the program encountered a problem.\n",
        "             - Numeric value => 40\n",
        "\n",
        "         4. CRITICAL (Highest Level)\n",
        "              \n",
        "              - A very serious error — the program may not be able to continue.\n",
        "              - Numeric value => 50"
      ],
      "metadata": {
        "id": "y50ny-tbW-PH"
      }
    },
    {
      "cell_type": "markdown",
      "source": [
        "18. What is the difference between os.fork() and multiprocessing in Python?\n",
        "\n",
        "    - os.fork() and the multiprocessing module in Python create new processes, but they work in different ways and serve different purposes.\n",
        "\n",
        "      1. os.fork()\n",
        "\n",
        "          - Low-Level Process Creation.\n",
        "          \n",
        "          - Directly creates a child process that is an exact copy of the parent process.\n",
        "          \n",
        "          - Uses shared memory between parent and child (Copy-on-Write mechanism).\n",
        "          \n",
        "          - Available only on Unix-based systems (Linux, macOS),not supported on Windows.\n",
        "          \n",
        "          - You must manually manage process execution and termination.\n",
        "\n",
        "      2. multiprocessing\n",
        "          \n",
        "          - High-Level Process Management\n",
        "          \n",
        "          - Spawns completely independent processes, each with its own memory space.\n",
        "          \n",
        "          - Works on Windows, Linux, and macOS (cross-platform).\n",
        "         \n",
        "          - Provides built-in synchronization tools like locks, queues, and pipes.\n",
        "          \n",
        "          - Easier to use for parallel execution of CPU-intensive tasks."
      ],
      "metadata": {
        "id": "hyo9UFXDb6X1"
      }
    },
    {
      "cell_type": "markdown",
      "source": [
        "19. What is the importance of closing a file in Python?\n",
        "\n",
        "    - Closing a file in Python is very important for proper resource management and data integrity.\n",
        "\n",
        "    - Here’s why it's important:\n",
        "\n",
        "       1. Releases System Resources:\n",
        "            \n",
        "            - When a file is open, it occupies system resources (RAM, file handles).\n",
        "            - Closing a file frees up these resources so they can be used elsewhere, preventing memory leaks.\n",
        "\n",
        "       2. Ensures Data is Properly Saved:\n",
        "\n",
        "            - If a file is opened for writing, changes may not be immediately saved.\n",
        "            - Closing the file flushes the buffer, ensuring all data is written to disk.\n",
        "\n",
        "       3. Prevents File Corruption:\n",
        "             \n",
        "             - Keeping a file open for too long can lead to data corruption if the program crashes or exits unexpectedly.\n",
        "             - Closing the file properly protects against such issues.\n",
        "\n",
        "      4. Avoids Unexpected Errors:\n",
        "\n",
        "            - If too many files remain open, the system might restrict access due to limited resources.\n",
        "            - Closing files prevents errors like \"Too many open files.\"\n",
        "\n",
        "      5. Avoids Memory Leaks:\n",
        "\n",
        "            - Not closing files in large or long-running programs can cause memory/resource leaks over time.\n",
        "\n"
      ],
      "metadata": {
        "id": "-is4CKnxe0Xb"
      }
    },
    {
      "cell_type": "markdown",
      "source": [
        "20. What is the difference between file.read() and file.readline() in Python?\n",
        "\n",
        "     - Both file.read() and file.readline() are used to read file contents, but they differ in how much they retrieve.\n",
        "\n",
        "        1. file.read():\n",
        "            \n",
        "            - Reads the Entire File or a Specified Number of Characters, if no argument is given.\n",
        "            \n",
        "            - If given a number (file.read(n)), it reads n characters.\n",
        "            \n",
        "            - Best for reading the whole file at once, but may not be memory-efficient for large files.\n",
        "           \n",
        "            - Best for reading the whole file at once, but may not be memory-efficient for large files.\n",
        "\n",
        "       2. file.readline():\n",
        "\n",
        "            - Reads a Single Line at a Time.\n",
        "            \n",
        "            - Reads one line from the file.\n",
        "\n",
        "            - Automatically stops at a newline (\\n) character.\n",
        "\n",
        "            - Best for processing files line by line, which is memory-efficient.\n",
        "\n",
        "            "
      ],
      "metadata": {
        "id": "OZfBYAMehQBo"
      }
    },
    {
      "cell_type": "markdown",
      "source": [
        "21. What is the logging module in Python used for?\n",
        "\n",
        "     - The logging module in Python is used for tracking events that happen during program execution.\n",
        "\n",
        "     - It provides a flexible way to record messages, making debugging, monitoring, and error tracking much easier.\n",
        "\n",
        "     - Why Use the Logging Module?\n",
        "         \n",
        "         1. Better than print() -> Logs provide structured messages instead of scattered output.\n",
        "\n",
        "         2. Debugging -> Helps identify issues by recording what the program is doing step-by-step\n",
        "\n",
        "         3. Monitoring -> Records runtime information — useful for tracking user actions or errors in production.\n",
        "\n",
        "         4. File Logging -> Writes logs to files instead of (or in addition to) the console, for persistent storage.\n",
        "\n",
        "         5. Auditing -> Keeps a permanent record of program execution (especially helpful in sensitive or secure systems).\n",
        "\n",
        "         6. Error Reporting -> Logs warnings, errors, and critical failures with detailed context."
      ],
      "metadata": {
        "id": "rzf-c_aykthF"
      }
    },
    {
      "cell_type": "markdown",
      "source": [
        "22. What is the os module in Python used for in file handling?\n",
        "\n",
        "    - The os module in Python provides functions to interact with the operating system, making it useful for file handling, directory management, and process control.\n",
        "\n",
        "    - How os Helps in File Handling:\n",
        "        \n",
        "        1. File Creation & Deletion – Create or remove files.\n",
        "        2. Directory Manipulation – Navigate, create, and delete directories.\n",
        "        3. Path Handling – Work with absolute and relative file paths.\n",
        "        4. Permissions & Metadata – Modify file permissions and check properties.\n",
        "\n",
        "   - Why Use os for File Handling:\n",
        "\n",
        "        1. Makes file and directory management easy and efficient.\n",
        "        2. Works across different operating systems (Windows, Linux, macOS).\n",
        "        3. Simplifies complex path manipulations and metadata retrieval."
      ],
      "metadata": {
        "id": "INYZjLhWmhDO"
      }
    },
    {
      "cell_type": "markdown",
      "source": [
        "23. What are the challenges associated with memory management in Python?\n",
        "\n",
        "    - Memory management in Python is designed to be automatic and efficient, but it still comes with certain challenges that developers should be aware of:\n",
        "\n",
        "      1. Memory Fragmentation:\n",
        "           \n",
        "           - Objects are stored in heap memory, and frequent allocations/deallocations can lead to fragmentation.\n",
        "           - Fragmentation can cause inefficient memory usage and slow down performance.\n",
        "\n",
        "      2. Garbage Collection Overhead:\n",
        "\n",
        "           - Python uses reference counting and a cyclic garbage collector to free unused memory.\n",
        "           - However, frequent garbage collection cycles can impact performance, especially in high-memory applications.\n",
        "\n",
        "      3. Cyclic References:\n",
        "          \n",
        "           - Objects that reference each other may not get garbage collected immediately.\n",
        "           - Python’s garbage collector handles cycles, but excessive cycles may delay memory cleanup.\n",
        "\n",
        "      4. Large Object Retention:\n",
        "            \n",
        "            - Some large objects (like big lists, dictionaries, or NumPy arrays) may stay in memory longer than expected.\n",
        "            - They might not be cleaned up immediately, leading to high memory consumption.\n",
        "\n",
        "      5. Memory Leaks Due to Unreleased Objects:\n",
        "\n",
        "            - If objects are not properly deleted (del keyword) or kept unnecessarily, memory leaks occur.\n",
        "            - Improper caching can also hold unnecessary objects in memory."
      ],
      "metadata": {
        "id": "ddu3R4P_pXRN"
      }
    },
    {
      "cell_type": "markdown",
      "source": [
        "24. How do you raise an exception manually in Python?\n",
        "\n",
        "    - In Python, you can manually raise an exception using the raise statement. This is useful when you want to intentionally trigger an error based on certain conditions.\n",
        "\n",
        "       1. Raising a Basic Exception: This will immediately stop execution and display.\n",
        "       \n",
        "       2. Raising Specific Exceptions: Python provides built-in exception classes like ValueError, TypeError, and ZeroDivisionError.\n",
        "       \n",
        "       3. Raising Exceptions Inside try-except: To handle a manually raised exception, use try-except. This ensures the program doesn’t crash but gracefully handles the error."
      ],
      "metadata": {
        "id": "F6Rsl9ufrCKb"
      }
    },
    {
      "cell_type": "markdown",
      "source": [
        "25. Why is it important to use multithreading in certain applications?\n",
        "\n",
        "    - Multithreading is important in certain applications because it allows programs to perform multiple tasks simultaneously, improving efficiency and responsiveness.\n",
        "\n",
        "    -  Why Multithreading Matters:\n",
        "        \n",
        "        1. Enhances Responsiveness -> In GUI or interactive applications, multithreading prevents the interface from freezing during long operations like file downloads or computations.\n",
        "\n",
        "        2. Efficient I/O Handling -> While one thread waits for an I/O operation (like reading a file or waiting for a web response), another can keep working—maximizing CPU usage.\n",
        "\n",
        "        3. Concurrent Task Execution -> Allows multiple operations to run seemingly at the same time—like handling multiple users on a web server.\n",
        "\n",
        "        4. Better Resource Utilization -> Threads are lightweight compared to processes and share memory space, which makes context switching faster and more efficient.\n",
        "\n",
        "        5. Real-Time Processing -> In applications like games, simulations, or monitoring tools, different threads can manage rendering, logic, input, etc., concurrently."
      ],
      "metadata": {
        "id": "kX_wRzuUtA9i"
      }
    },
    {
      "cell_type": "markdown",
      "source": [
        "## Practical Part"
      ],
      "metadata": {
        "id": "YpthhwKAu0z8"
      }
    },
    {
      "cell_type": "code",
      "source": [
        "#1. How can you open a file for writing in Python and write a string to it?\n",
        "\n",
        "\n",
        "with open(\"example.txt\", \"w\") as file:           # Open the file in write mode ('w')\n",
        "    file.write(\"Hello, this is a line of text.\")\n"
      ],
      "metadata": {
        "colab": {
          "base_uri": "https://localhost:8080/"
        },
        "id": "gAH6bTCKu39K",
        "outputId": "5bdadfdc-0f75-4c19-fed5-bc2ca6cab3e6"
      },
      "execution_count": 3,
      "outputs": [
        {
          "output_type": "stream",
          "name": "stdout",
          "text": [
            "Object `it` not found.\n"
          ]
        }
      ]
    },
    {
      "cell_type": "code",
      "source": [
        "#2. Write a Python program to read the contents of a file and print each line.\n",
        "\n",
        "\n",
        "with open(\"example.txt\", \"r\") as file:      # Open the file in read mode\n",
        "    for line in file:\n",
        "        print(line.strip())                 # strip() removes extra newline characters"
      ],
      "metadata": {
        "colab": {
          "base_uri": "https://localhost:8080/"
        },
        "id": "dVdbQz0dvVJV",
        "outputId": "3e83edc4-124f-434d-a7f1-cada92b058a5"
      },
      "execution_count": 5,
      "outputs": [
        {
          "output_type": "stream",
          "name": "stdout",
          "text": [
            "Hello, this is a line of text.\n"
          ]
        }
      ]
    },
    {
      "cell_type": "code",
      "source": [
        "#3. How would you handle a case where the file doesn't exist while trying to open it for reading?\n",
        "\n",
        "filename = \"example.txt\"\n",
        "\n",
        "try:\n",
        "    with open(filename, \"r\") as file:\n",
        "        for line in file:\n",
        "            print(line.strip())\n",
        "except FileNotFoundError:\n",
        "    print(f\"Sorry, the file '{filename}' does not exist.\")\n"
      ],
      "metadata": {
        "colab": {
          "base_uri": "https://localhost:8080/"
        },
        "id": "HzV5-g2Vv5Yc",
        "outputId": "c1aadfe0-1304-4673-dab9-ccc1e090ca48"
      },
      "execution_count": 6,
      "outputs": [
        {
          "output_type": "stream",
          "name": "stdout",
          "text": [
            "Hello, this is a line of text.\n"
          ]
        }
      ]
    },
    {
      "cell_type": "code",
      "source": [
        "#4. Write a Python script that reads from one file and writes its content to another file.\n",
        "\n",
        "\n",
        "input_file = \"input.txt\"          # Specify the input and output file paths\n",
        "output_file = \"output.txt\"\n",
        "\n",
        "try:\n",
        "    with open(input_file, \"r\") as infile, open(output_file, \"w\") as outfile:     # Open the input file for reading and the output file for writing\n",
        "        for line in infile:                                                      # Read each line from the input file and write it to the output file\n",
        "            outfile.write(line)\n",
        "    print(f\"Contents of '{input_file}' have been successfully copied to '{output_file}'.\")\n",
        "\n",
        "except FileNotFoundError:\n",
        "    print(f\"Error: One of the files '{input_file}' or '{output_file}' does not exist.\")\n"
      ],
      "metadata": {
        "colab": {
          "base_uri": "https://localhost:8080/"
        },
        "id": "pxNddB--wPAx",
        "outputId": "f0fce650-59b8-4660-bf8f-48c6f183227a"
      },
      "execution_count": 7,
      "outputs": [
        {
          "output_type": "stream",
          "name": "stdout",
          "text": [
            "Error: One of the files 'input.txt' or 'output.txt' does not exist.\n"
          ]
        }
      ]
    },
    {
      "cell_type": "code",
      "source": [
        "#5. How would you catch and handle division by zero error in Python ?\n",
        "\n",
        "try:\n",
        "    # Attempt to divide by zero\n",
        "    numerator = 10\n",
        "    denominator = 0\n",
        "    result = numerator / denominator\n",
        "    print(result)\n",
        "except ZeroDivisionError:\n",
        "    print(\"Error: Cannot divide by zero.\")\n"
      ],
      "metadata": {
        "colab": {
          "base_uri": "https://localhost:8080/"
        },
        "id": "Wn8YUdAzwsJv",
        "outputId": "073c192d-a09a-4078-b7ba-e85976c232aa"
      },
      "execution_count": 9,
      "outputs": [
        {
          "output_type": "stream",
          "name": "stdout",
          "text": [
            "Error: Cannot divide by zero.\n"
          ]
        }
      ]
    },
    {
      "cell_type": "code",
      "source": [
        "#6. Write a Python program that logs an error message to a log file when a division by zero exception occurs.\n",
        "\n",
        "import logging\n",
        "\n",
        "# Configure the logging settings\n",
        "logging.basicConfig(\n",
        "    filename=\"error_log.txt\",  # Log file name\n",
        "    level=logging.ERROR,       # Log level (only ERROR and higher will be logged)\n",
        "    format=\"%(asctime)s - %(levelname)s - %(message)s\"  # Log message format\n",
        ")\n",
        "\n",
        "try:\n",
        "    # Attempt to divide by zero\n",
        "    numerator = 10\n",
        "    denominator = 0\n",
        "    result = numerator / denominator\n",
        "except ZeroDivisionError as e:\n",
        "    # Log the error message\n",
        "    logging.error(f\"Error: {e} - Cannot divide {numerator} by zero.\")\n",
        "    print(\"Error: Cannot divide by zero. Check the log file for details.\")\n",
        "\n"
      ],
      "metadata": {
        "colab": {
          "base_uri": "https://localhost:8080/"
        },
        "id": "XcFCYmroxEJI",
        "outputId": "9f0ecc08-ca4a-4dad-a907-d25c4c1ac88f"
      },
      "execution_count": 10,
      "outputs": [
        {
          "output_type": "stream",
          "name": "stderr",
          "text": [
            "ERROR:root:Error: division by zero - Cannot divide 10 by zero.\n"
          ]
        },
        {
          "output_type": "stream",
          "name": "stdout",
          "text": [
            "Error: Cannot divide by zero. Check the log file for details.\n"
          ]
        }
      ]
    },
    {
      "cell_type": "code",
      "source": [
        "#7. How do you log information at different levels (INFO, ERROR, WARNING) in Python using the logging module?\n",
        "\n",
        "\n",
        "import logging\n",
        "\n",
        "# Configure the logging settings\n",
        "logging.basicConfig(\n",
        "    filename=\"app_log.txt\",        # Log file name\n",
        "    level=logging.DEBUG,           # Set the lowest level to DEBUG (captures all log levels)\n",
        "    format=\"%(asctime)s - %(levelname)s - %(message)s\"  # Log message format\n",
        ")\n",
        "\n",
        "# Log an informational message\n",
        "logging.info(\"This is an info message: Program started successfully.\")\n",
        "\n",
        "# Log a warning message\n",
        "logging.warning(\"This is a warning message: Potential issue detected.\")\n",
        "\n",
        "# Log an error message\n",
        "logging.error(\"This is an error message: An error occurred while processing data.\")\n"
      ],
      "metadata": {
        "colab": {
          "base_uri": "https://localhost:8080/"
        },
        "id": "wuQLzJlfxTsW",
        "outputId": "b43bbea5-a4ca-4dbe-ab99-bdabf54c8915"
      },
      "execution_count": 11,
      "outputs": [
        {
          "output_type": "stream",
          "name": "stderr",
          "text": [
            "WARNING:root:This is a warning message: Potential issue detected.\n",
            "ERROR:root:This is an error message: An error occurred while processing data.\n"
          ]
        }
      ]
    },
    {
      "cell_type": "code",
      "source": [
        "#8. Write a program to handle a file opening error using exception handling\n",
        "\n",
        "try:\n",
        "    # Attempt to open the file in read mode\n",
        "    with open(\"non_existent_file.txt\", \"r\") as file:\n",
        "        content = file.read()\n",
        "        print(content)\n",
        "except FileNotFoundError:\n",
        "    # Handle the case where the file is not found\n",
        "    print(\"Error: The file does not exist.\")\n",
        "except IOError:\n",
        "    # Handle other I/O errors (e.g., permission issues)\n",
        "    print(\"Error: An error occurred while trying to open the file.\")\n"
      ],
      "metadata": {
        "colab": {
          "base_uri": "https://localhost:8080/"
        },
        "id": "4g99yce7xiPc",
        "outputId": "015f3c28-d803-4b31-f054-c08e0054ae14"
      },
      "execution_count": 12,
      "outputs": [
        {
          "output_type": "stream",
          "name": "stdout",
          "text": [
            "Error: The file does not exist.\n"
          ]
        }
      ]
    },
    {
      "cell_type": "code",
      "source": [
        "#9. How can you read a file line by line and store its content in a list in Python?\n",
        "\n",
        "with open(\"example.txt\", \"r\") as file:\n",
        "    lines = file.readlines()  # Returns a list where each element is a line from the file\n",
        "\n",
        "# Optionally, strip newline characters\n",
        "lines = [line.strip() for line in lines]\n",
        "\n",
        "print(lines)"
      ],
      "metadata": {
        "colab": {
          "base_uri": "https://localhost:8080/"
        },
        "id": "w8P_XZNVyXIq",
        "outputId": "bd867603-1957-4aac-ef2c-bc87b2d44a72"
      },
      "execution_count": 13,
      "outputs": [
        {
          "output_type": "stream",
          "name": "stdout",
          "text": [
            "['Hello, this is a line of text.']\n"
          ]
        }
      ]
    },
    {
      "cell_type": "code",
      "source": [
        "#10. How can you append data to an existing file in Python?\n",
        "\n",
        "\n",
        "with open(\"example.txt\", \"a\") as file:\n",
        "    file.write(\"This is an appended line.\\n\")\n",
        "\n",
        "new_lines = [\"Line one\\n\", \"Line two\\n\"]\n",
        "\n",
        "with open(\"example.txt\", \"a\") as file:\n",
        "    file.writelines(new_lines)\n",
        "\n",
        "with open(\"example.txt\", \"a+\") as file:\n",
        "    file.write(\"Another line added.\\n\")\n",
        "    file.seek(0)  # Move cursor to the beginning to read\n",
        "    print(file.read())"
      ],
      "metadata": {
        "colab": {
          "base_uri": "https://localhost:8080/"
        },
        "id": "j-DNbbaOyuKe",
        "outputId": "f29bac2e-4ad7-406e-ad4c-7a7e93c6a2ec"
      },
      "execution_count": 22,
      "outputs": [
        {
          "output_type": "stream",
          "name": "stdout",
          "text": [
            "Hello, this is a line of text.This is a new line being appended.\n",
            "\n",
            "New content added!\n",
            "New content added!\n",
            "New content added!\n",
            "Line 1\n",
            "Line 2\n",
            "Line 3\n",
            "New content added!\n",
            "Line 1\n",
            "Line 2\n",
            "Line 3Appending this line to the file.\n",
            "First new line\n",
            "Second new line\n",
            "This is an appended line.\n",
            "Line one\n",
            "Line two\n",
            "Another line added.\n",
            "This is an appended line.\n",
            "Line one\n",
            "Line two\n",
            "Another line added.\n",
            "\n"
          ]
        }
      ]
    },
    {
      "cell_type": "code",
      "source": [
        "#11. Write a Python program that uses a try-except block to handle an error when attempting to access a\n",
        "# dictionary key that doesn't exist.\n",
        "\n",
        "\n",
        "# Define a dictionary with some data\n",
        "student_scores = {\"Anisha\": 85, \"Pratham\": 90, \"Anit\": 78}\n",
        "\n",
        "# Try to access a key that may not exist\n",
        "try:\n",
        "    name = input(\"Enter the student's name: \")  # User input\n",
        "    score = student_scores[name]  # Attempt to access the dictionary key\n",
        "    print(f\"{name}'s score is {score}\")\n",
        "except KeyError:\n",
        "    print(f\"Error: '{name}' is not found in the records. Please check the name.\")"
      ],
      "metadata": {
        "colab": {
          "base_uri": "https://localhost:8080/"
        },
        "id": "M8A6PHko0cYV",
        "outputId": "25b353f3-4771-4b7b-98fc-235c625536aa"
      },
      "execution_count": 24,
      "outputs": [
        {
          "output_type": "stream",
          "name": "stdout",
          "text": [
            "Enter the student's name: Anisha\n",
            "Anisha's score is 85\n"
          ]
        }
      ]
    },
    {
      "cell_type": "code",
      "source": [
        "#12. Write a program that demonstrates using multiple except blocks to handle different types of exceptions.\n",
        "\n",
        "\n",
        "def handle_exceptions():\n",
        "    try:\n",
        "        num1 = int(input(\"Enter a number: \"))\n",
        "        num2 = int(input(\"Enter another number: \"))\n",
        "        result = num1 / num2\n",
        "        print(\"Result:\", result)\n",
        "\n",
        "        my_list = [1, 2, 3]\n",
        "        print(\"Fourth element:\", my_list[3])\n",
        "\n",
        "    except ValueError:\n",
        "        print(\"Oops! Please enter valid integers.\")\n",
        "    except ZeroDivisionError:\n",
        "        print(\"Division by zero is not allowed.\")\n",
        "    except IndexError:\n",
        "        print(\"Index out of range while accessing the list.\")\n",
        "    except Exception as e:\n",
        "        print(\"An unexpected error occurred:\", e)\n",
        "\n",
        "# Run the function\n",
        "handle_exceptions()"
      ],
      "metadata": {
        "colab": {
          "base_uri": "https://localhost:8080/"
        },
        "id": "WOG_jxQz2qtB",
        "outputId": "6deddd62-d83b-4f54-a113-4efbece6620e"
      },
      "execution_count": 25,
      "outputs": [
        {
          "output_type": "stream",
          "name": "stdout",
          "text": [
            "Enter a number: 10\n",
            "Enter another number: 10\n",
            "Result: 1.0\n",
            "Index out of range while accessing the list.\n"
          ]
        }
      ]
    },
    {
      "cell_type": "code",
      "source": [
        "#13. How would you check if a file exists before attempting to read it in Python?\n",
        "\n",
        "import os\n",
        "\n",
        "file_path = \"example.txt\"\n",
        "\n",
        "if os.path.exists(file_path):\n",
        "    with open(file_path, \"r\") as file:\n",
        "        contents = file.read()\n",
        "        print(contents)\n",
        "else:\n",
        "    print(\"File does not exist.\")"
      ],
      "metadata": {
        "colab": {
          "base_uri": "https://localhost:8080/"
        },
        "id": "TaeamwAE3BoW",
        "outputId": "9cdc87fa-6215-46ce-83ad-34c55b934c39"
      },
      "execution_count": 26,
      "outputs": [
        {
          "output_type": "stream",
          "name": "stdout",
          "text": [
            "Hello, this is a line of text.This is a new line being appended.\n",
            "\n",
            "New content added!\n",
            "New content added!\n",
            "New content added!\n",
            "Line 1\n",
            "Line 2\n",
            "Line 3\n",
            "New content added!\n",
            "Line 1\n",
            "Line 2\n",
            "Line 3Appending this line to the file.\n",
            "First new line\n",
            "Second new line\n",
            "This is an appended line.\n",
            "Line one\n",
            "Line two\n",
            "Another line added.\n",
            "This is an appended line.\n",
            "Line one\n",
            "Line two\n",
            "Another line added.\n",
            "\n"
          ]
        }
      ]
    },
    {
      "cell_type": "code",
      "source": [
        "#14. Write a program that uses the logging module to log both informational and error messages.\n",
        "\n",
        "import logging\n",
        "\n",
        "# Configure the logging\n",
        "logging.basicConfig(\n",
        "    filename='app.log',           # Log file name\n",
        "    level=logging.DEBUG,          # Set minimum level to DEBUG\n",
        "    format='%(asctime)s - %(levelname)s - %(message)s'\n",
        ")\n",
        "\n",
        "def divide_numbers(a, b):\n",
        "    try:\n",
        "        logging.info(f\"Attempting to divide {a} by {b}\")\n",
        "        result = a / b\n",
        "        logging.info(f\"Division successful: {result}\")\n",
        "        return result\n",
        "    except ZeroDivisionError as e:\n",
        "        logging.error(\"Division by zero error occurred\")\n",
        "    except Exception as e:\n",
        "        logging.error(f\"An unexpected error occurred: {e}\")\n",
        "\n",
        "# Example usage\n",
        "divide_numbers(10, 2)    # Will log info messages\n",
        "divide_numbers(5, 0)     # Will log an error message"
      ],
      "metadata": {
        "colab": {
          "base_uri": "https://localhost:8080/"
        },
        "id": "cFslBf5Z3Sdw",
        "outputId": "d8e9aa9d-1249-481c-cf70-d32c4500db58"
      },
      "execution_count": 27,
      "outputs": [
        {
          "output_type": "stream",
          "name": "stderr",
          "text": [
            "ERROR:root:Division by zero error occurred\n"
          ]
        }
      ]
    },
    {
      "cell_type": "code",
      "source": [
        "#15. Write a Python program that prints the content of a file and handles the case when the file is empty.\n",
        "\n",
        "\n",
        "def read_and_print_file(filename):\n",
        "    try:\n",
        "        with open(filename, 'r') as file:\n",
        "            content = file.read()\n",
        "            if content:\n",
        "                print(\"File Contents:\\n\")\n",
        "                print(content)\n",
        "            else:\n",
        "                print(\"The file is empty.\")\n",
        "    except FileNotFoundError:\n",
        "        print(f\"Error: The file '{filename}' was not found.\")\n",
        "    except Exception as e:\n",
        "        print(f\"An unexpected error occurred: {e}\")\n",
        "\n",
        "# Example usage\n",
        "filename = \"example.txt\"\n",
        "read_and_print_file(filename)"
      ],
      "metadata": {
        "colab": {
          "base_uri": "https://localhost:8080/"
        },
        "id": "sLEH96F33kFp",
        "outputId": "85277f9a-0217-4514-f662-29301ba766a2"
      },
      "execution_count": 28,
      "outputs": [
        {
          "output_type": "stream",
          "name": "stdout",
          "text": [
            "File Contents:\n",
            "\n",
            "Hello, this is a line of text.This is a new line being appended.\n",
            "\n",
            "New content added!\n",
            "New content added!\n",
            "New content added!\n",
            "Line 1\n",
            "Line 2\n",
            "Line 3\n",
            "New content added!\n",
            "Line 1\n",
            "Line 2\n",
            "Line 3Appending this line to the file.\n",
            "First new line\n",
            "Second new line\n",
            "This is an appended line.\n",
            "Line one\n",
            "Line two\n",
            "Another line added.\n",
            "This is an appended line.\n",
            "Line one\n",
            "Line two\n",
            "Another line added.\n",
            "\n"
          ]
        }
      ]
    },
    {
      "cell_type": "code",
      "source": [
        "#17. Write a Python program to create and write a list of numbers to a file, one number per line\n",
        "\n",
        "def write_numbers_to_file(numbers, filename):\n",
        "    \"\"\"\n",
        "    Writes a list of numbers to a file, one number per line.\n",
        "\n",
        "    Args:\n",
        "        numbers (list): List of numbers to write\n",
        "        filename (str): Name of the output file\n",
        "    \"\"\"\n",
        "    try:\n",
        "        with open(filename, 'w') as file:\n",
        "            for number in numbers:\n",
        "                file.write(f\"{number}\\n\")\n",
        "        print(f\"Successfully wrote {len(numbers)} numbers to '{filename}'\")\n",
        "    except IOError as e:\n",
        "        print(f\"Error writing to file: {e}\")\n",
        "\n",
        "# Example usage\n",
        "if __name__ == \"__main__\":\n",
        "    # Create a sample list of numbers\n",
        "    numbers = [1, 2, 3, 4, 5, 6, 7, 8, 9, 10]\n",
        "\n",
        "    # Output file name\n",
        "    output_file = \"numbers.txt\"\n",
        "\n",
        "    # Write numbers to file\n",
        "    write_numbers_to_file(numbers, output_file)\n",
        "\n",
        "    # Verify the file content\n",
        "    print(\"\\nFile content verification:\")\n",
        "    try:\n",
        "        with open(output_file, 'r') as file:\n",
        "            print(file.read())\n",
        "    except IOError as e:\n",
        "        print(f\"Error reading file: {e}\")"
      ],
      "metadata": {
        "colab": {
          "base_uri": "https://localhost:8080/"
        },
        "id": "pYusjc45IoJX",
        "outputId": "93bb1715-da79-4eb3-f92e-e7c027830d8b"
      },
      "execution_count": 51,
      "outputs": [
        {
          "output_type": "stream",
          "name": "stdout",
          "text": [
            "Successfully wrote 10 numbers to 'numbers.txt'\n",
            "\n",
            "File content verification:\n",
            "1\n",
            "2\n",
            "3\n",
            "4\n",
            "5\n",
            "6\n",
            "7\n",
            "8\n",
            "9\n",
            "10\n",
            "\n"
          ]
        }
      ]
    },
    {
      "cell_type": "code",
      "source": [
        "#19. Write a program that handles both IndexError and KeyError using a try-except block\n",
        "\n",
        "def handle_exceptions():\n",
        "    my_list = [10, 20, 30]\n",
        "    my_dict = {\"name\": \"Alice\", \"age\": 25}\n",
        "\n",
        "    try:\n",
        "        # Trying to access an invalid index\n",
        "        print(\"Accessing list element at index 5:\", my_list[5])\n",
        "\n",
        "        # Trying to access a missing key\n",
        "        print(\"Accessing dictionary key 'gender':\", my_dict[\"gender\"])\n",
        "\n",
        "    except IndexError as ie:\n",
        "        print(\"Caught an IndexError:\", ie)\n",
        "\n",
        "    except KeyError as ke:\n",
        "        print(\"Caught a KeyError:\", ke)\n",
        "\n",
        "# Run the function\n",
        "handle_exceptions()\n"
      ],
      "metadata": {
        "colab": {
          "base_uri": "https://localhost:8080/"
        },
        "id": "d7fZp1rbIwL2",
        "outputId": "298b10d5-ec8e-49e1-dbe5-8abe7818136a"
      },
      "execution_count": 52,
      "outputs": [
        {
          "output_type": "stream",
          "name": "stdout",
          "text": [
            "Caught an IndexError: list index out of range\n"
          ]
        }
      ]
    },
    {
      "cell_type": "code",
      "source": [
        "#20. How would you open a file and read its contents using a context manager in Python\n",
        "\n",
        "# Open and read the contents of a file using a context manager\n",
        "file_path = \"example.txt\"\n",
        "\n",
        "try:\n",
        "    with open(file_path, \"r\") as file:\n",
        "        contents = file.read()\n",
        "        print(contents)\n",
        "except FileNotFoundError:\n",
        "    print(f\"The file '{file_path}' was not found.\")\n",
        "\n",
        "\n"
      ],
      "metadata": {
        "colab": {
          "base_uri": "https://localhost:8080/"
        },
        "id": "qfjc-0ERJLD_",
        "outputId": "8841c582-f516-4397-a196-23da6a91cc73"
      },
      "execution_count": 53,
      "outputs": [
        {
          "output_type": "stream",
          "name": "stdout",
          "text": [
            "Hello, this is a line of text.This is a new line being appended.\n",
            "\n",
            "New content added!\n",
            "New content added!\n",
            "New content added!\n",
            "Line 1\n",
            "Line 2\n",
            "Line 3\n",
            "New content added!\n",
            "Line 1\n",
            "Line 2\n",
            "Line 3Appending this line to the file.\n",
            "First new line\n",
            "Second new line\n",
            "This is an appended line.\n",
            "Line one\n",
            "Line two\n",
            "Another line added.\n",
            "This is an appended line.\n",
            "Line one\n",
            "Line two\n",
            "Another line added.\n",
            "\n"
          ]
        }
      ]
    },
    {
      "cell_type": "code",
      "source": [
        "#21. Write a Python program that reads a file and prints the number of occurrences of a specific word?\n",
        "\n",
        "def count_word_occurrences(file_path, target_word):\n",
        "    try:\n",
        "        with open(file_path, 'r') as file:\n",
        "            contents = file.read().lower()  # convert to lowercase for case-insensitive matching\n",
        "            word_list = contents.split()\n",
        "            count = word_list.count(target_word.lower())\n",
        "            print(f\"The word '{target_word}' appears {count} times in the file.\")\n",
        "    except FileNotFoundError:\n",
        "        print(f\"The file '{file_path}' was not found.\")\n",
        "\n",
        "# Example usage\n",
        "file_path = 'example.txt'  # Replace with your actual file path\n",
        "target_word = 'python'     # Replace with the word you're looking for\n",
        "count_word_occurrences(file_path, target_word)\n"
      ],
      "metadata": {
        "colab": {
          "base_uri": "https://localhost:8080/"
        },
        "id": "l9l5vHtlJb_k",
        "outputId": "56868439-78ee-479b-ef3a-d78a94b9f88b"
      },
      "execution_count": 55,
      "outputs": [
        {
          "output_type": "stream",
          "name": "stdout",
          "text": [
            "The word 'python' appears 0 times in the file.\n"
          ]
        }
      ]
    },
    {
      "cell_type": "code",
      "source": [
        "#22.  How can you check if a file is empty before attempting to read its contents\n",
        "\n",
        "import os\n",
        "\n",
        "file_path = 'example.txt'\n",
        "\n",
        "if os.path.exists(file_path) and os.stat(file_path).st_size == 0:\n",
        "    print(\"The file is empty.\")\n",
        "else:\n",
        "    print(\"The file has content.\")\n",
        "\n"
      ],
      "metadata": {
        "colab": {
          "base_uri": "https://localhost:8080/"
        },
        "id": "Glq6xgXYJvCk",
        "outputId": "e8bd57e5-880f-4027-d8c4-4975ec4a7d38"
      },
      "execution_count": 56,
      "outputs": [
        {
          "output_type": "stream",
          "name": "stdout",
          "text": [
            "The file has content.\n"
          ]
        }
      ]
    },
    {
      "cell_type": "code",
      "source": [
        "#23. Write a Python program that writes to a log file when an error occurs during file handling.\n",
        "\n",
        "import logging\n",
        "\n",
        "# Configure logging\n",
        "logging.basicConfig(filename=\"error_log.txt\", level=logging.ERROR, format=\"%(asctime)s - %(levelname)s - %(message)s\")\n",
        "\n",
        "def read_file(filename):\n",
        "    try:\n",
        "        with open(filename, \"r\") as file:\n",
        "            content = file.read()\n",
        "            print(content)\n",
        "    except FileNotFoundError:\n",
        "        logging.error(f\"File '{filename}' not found.\")\n",
        "        print(f\"Error: File '{filename}' does not exist.\")\n",
        "    except Exception as e:\n",
        "        logging.error(f\"Unexpected error: {e}\")\n",
        "        print(f\"Error: {e}\")\n",
        "\n",
        "# Test the function with a non-existent file\n",
        "read_file(\"non_existent_file.txt\")\n"
      ],
      "metadata": {
        "colab": {
          "base_uri": "https://localhost:8080/"
        },
        "id": "YXu4o9-5KYUk",
        "outputId": "56fb4dbe-406f-4bab-98ac-36cb2221ca0e"
      },
      "execution_count": 60,
      "outputs": [
        {
          "output_type": "stream",
          "name": "stderr",
          "text": [
            "ERROR:root:File 'non_existent_file.txt' not found.\n"
          ]
        },
        {
          "output_type": "stream",
          "name": "stdout",
          "text": [
            "Error: File 'non_existent_file.txt' does not exist.\n"
          ]
        }
      ]
    }
  ]
}